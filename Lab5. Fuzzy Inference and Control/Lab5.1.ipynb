{
 "cells": [
  {
   "cell_type": "code",
   "execution_count": 1,
   "metadata": {
    "colab": {},
    "colab_type": "code",
    "id": "twBmPWIxDeal"
   },
   "outputs": [],
   "source": [
    "import numpy as np\n",
    "import matplotlib.pyplot as plt\n",
    "from PIL import Image\n",
    "import matplotlib.animation as animation\n",
    "from IPython.display import HTML\n",
    "from skimage import draw\n",
    "%matplotlib inline\n",
    "#comment                                                                           "
   ]
  },
  {
   "cell_type": "code",
   "execution_count": 2,
   "metadata": {
    "colab": {},
    "colab_type": "code",
    "id": "UYGJsE-zDear"
   },
   "outputs": [],
   "source": [
    "def plot_images(img_list):\n",
    "    def init():\n",
    "        img.set_data(img_list[0])\n",
    "        return (img,)\n",
    "\n",
    "    def animate(i):\n",
    "        img.set_data(img_list[i])\n",
    "        return (img,)\n",
    "\n",
    "    plt.figure(figsize = (15,15))\n",
    "    fig = plt.figure()\n",
    "    ax = fig.gca()\n",
    "    img = ax.imshow(img_list[0])\n",
    "    anim = animation.FuncAnimation(fig, animate, init_func=init,\n",
    "                                 frames=len(img_list), interval=20, blit=True)\n",
    "    return anim\n"
   ]
  },
  {
   "cell_type": "code",
   "execution_count": 3,
   "metadata": {
    "colab": {},
    "colab_type": "code",
    "id": "Gc_r3VOJDeat"
   },
   "outputs": [],
   "source": [
    "class World():\n",
    "    def __init__(self,rocket,target,width=768,height=640,stop_limit=100):\n",
    "        self.rocket = rocket\n",
    "        self.target = target\n",
    "        self.width = width\n",
    "        self.height = height\n",
    "        self.time = 0\n",
    "        self.stop_limit = stop_limit\n",
    "        self.worlds = [np.ones((width,height),dtype=np.uint8)]\n",
    "        self.distance = []\n",
    "        \n",
    "    \n",
    "    def gen_img(self,world):\n",
    "        buff = np.array((world,world,world))*255\n",
    "        return buff.reshape(self.width,self.height,3)\n",
    "    \n",
    "    def run(self):\n",
    "        print(\"Run the world\")\n",
    "\n",
    "        while True:\n",
    "            self.time = self.time + 1\n",
    "            xt,yt = self.target.move(self.time)\n",
    "            xr,yr = self.rocket.move(self.time,self.target)\n",
    "            self.distance.append(np.linalg.norm(np.array([xt,yt])-np.array([xr,yr])))\n",
    "            rt, ct = draw.circle(int(xt), int(yt), radius=10, shape=self.worlds[-1].shape)\n",
    "            self.worlds[-1][rt,ct]=0\n",
    "            rr, cr = draw.circle(int(xr), int(yr), radius=10, shape=self.worlds[-1].shape)\n",
    "            self.worlds[-1][rr,cr]=0\n",
    "            self.worlds.append(np.ones((self.width,self.height),dtype=np.uint8))\n",
    "            if self.time>self.stop_limit:\n",
    "                print(len(self.worlds))\n",
    "                print(\"Stop the world\")\n",
    "                break\n",
    "            if self.distance[-1]<10:\n",
    "                break\n",
    "        return self.worlds\n"
   ]
  },
  {
   "cell_type": "code",
   "execution_count": 4,
   "metadata": {
    "colab": {},
    "colab_type": "code",
    "id": "19PtinByDeaw"
   },
   "outputs": [],
   "source": [
    "class RectRocket():\n",
    "    def __init__(self,x0,y0,v,angle):\n",
    "        self.x = x0\n",
    "        self.y = y0\n",
    "        self.v = v\n",
    "        self.angle = angle\n",
    "    \n",
    "    def move(self,time,target):\n",
    "        deltax = self.x - target.x\n",
    "        deltay = self.y - target.y\n",
    "        # Put your code here\n",
    "        # Calculate your angle and apply it to new (x,y) coords\n",
    "        # Steps:\n",
    "        # 1. Calculate alpha = arctan(deltax/deltay)\n",
    "        # 2. Calcualte new_x = old_x + sin/cos(alpha)*v\n",
    "        self.x = self.x - self.v\n",
    "        self.y = self.y - np.sign(deltay)*self.v\n",
    "        return (self.x,self.y)\n",
    "    \n",
    "    \n",
    "class Target():\n",
    "    def __init__(self,r1,f1,r2,f2,x0,y0):\n",
    "        self.x0 = x0\n",
    "        self.y0 = y0\n",
    "        self.r1 = r1\n",
    "        self.f1 = f1\n",
    "        self.r2 = r2\n",
    "        self.f2 = f2\n",
    "        self.move(0)\n",
    "        \n",
    "    def move(self,time):\n",
    "        self.x = self.x0 + self.r1 * np.cos(time*2*np.pi*self.f1) + self.r2 * np.cos(time*2*np.pi*self.f2)\n",
    "        self.y = self.y0 + self.r1 * np.sin(time*2*np.pi*self.f1) + self.r2 * np.sin(time*2*np.pi*self.f2)\n",
    "        return (self.x,self.y)"
   ]
  },
  {
   "cell_type": "code",
   "execution_count": 5,
   "metadata": {
    "colab": {
     "base_uri": "https://localhost:8080/",
     "height": 594
    },
    "colab_type": "code",
    "id": "N6Fd5dmhDeay",
    "outputId": "f4453f5f-3923-4335-c12c-ea3ebf6da3bf"
   },
   "outputs": [
    {
     "name": "stdout",
     "output_type": "stream",
     "text": [
      "Run the world\n"
     ]
    },
    {
     "data": {
      "text/html": [
       "<video width=\"432\" height=\"288\" controls autoplay loop>\n",
       "  <source type=\"video/mp4\" src=\"data:video/mp4;base64,AAAAHGZ0eXBNNFYgAAACAGlzb21pc28yYXZjMQAAAAhmcmVlAAAhdW1kYXQAAAKgBgX//5zcRem9\n",
       "5tlIt5Ys2CDZI+7veDI2NCAtIGNvcmUgMTU5IC0gSC4yNjQvTVBFRy00IEFWQyBjb2RlYyAtIENv\n",
       "cHlsZWZ0IDIwMDMtMjAxOSAtIGh0dHA6Ly93d3cudmlkZW9sYW4ub3JnL3gyNjQuaHRtbCAtIG9w\n",
       "dGlvbnM6IGNhYmFjPTEgcmVmPTMgZGVibG9jaz0xOjA6MCBhbmFseXNlPTB4MzoweDExMyBtZT1o\n",
       "ZXggc3VibWU9NyBwc3k9MSBwc3lfcmQ9MS4wMDowLjAwIG1peGVkX3JlZj0xIG1lX3JhbmdlPTE2\n",
       "IGNocm9tYV9tZT0xIHRyZWxsaXM9MSA4eDhkY3Q9MSBjcW09MCBkZWFkem9uZT0yMSwxMSBmYXN0\n",
       "X3Bza2lwPTEgY2hyb21hX3FwX29mZnNldD0tMiB0aHJlYWRzPTkgbG9va2FoZWFkX3RocmVhZHM9\n",
       "MSBzbGljZWRfdGhyZWFkcz0wIG5yPTAgZGVjaW1hdGU9MSBpbnRlcmxhY2VkPTAgYmx1cmF5X2Nv\n",
       "bXBhdD0wIGNvbnN0cmFpbmVkX2ludHJhPTAgYmZyYW1lcz0zIGJfcHlyYW1pZD0yIGJfYWRhcHQ9\n",
       "MSBiX2JpYXM9MCBkaXJlY3Q9MSB3ZWlnaHRiPTEgb3Blbl9nb3A9MCB3ZWlnaHRwPTIga2V5aW50\n",
       "PTI1MCBrZXlpbnRfbWluPTI1IHNjZW5lY3V0PTQwIGludHJhX3JlZnJlc2g9MCByY19sb29rYWhl\n",
       "YWQ9NDAgcmM9Y3JmIG1idHJlZT0xIGNyZj0yMy4wIHFjb21wPTAuNjAgcXBtaW49MCBxcG1heD02\n",
       "OSBxcHN0ZXA9NCBpcF9yYXRpbz0xLjQwIGFxPTE6MS4wMACAAAAHzGWIhAAv//72rvzLK0cLlS4d\n",
       "WXuzUfLoSXL9iDB9aAAAAwAA1WnlBlKiO+DyiH1Ap+0jZSy5x6Np5N7IToi51xCBziWxjqkAADSn\n",
       "xEkN2D70xVtND7aUVOBEUz2xaxpsoWqLozkVqJVNri/Br5FjT5V4vHLF75W48xI40SmFbcCF1sOH\n",
       "ALQhGbvA+ioa92svoDpENkgt5nEOM9A55RZNv+SpBcYXnEraD4KXJRc463MeN1rYFqGGZPB1Ozvp\n",
       "zycccmFRv2eZ426L9RDEldKN0VQPMiQpMoc8qbT+hvUaqF5AGSZ4GhV7tfUxrZe6kU5vDlt1A+z9\n",
       "CrsHUz6t781W+A+5eSwHhGkuQZiMx8/FY4cH03Z4KKS9N24REGPCW6x+sJPqKpHHZwHarb39gEId\n",
       "0UPJkzqxvxK6X51QBTW5Mhy8Q/mTxj4iJYdq5wTBJRacNK+51SOaJx3oaCdFhKJK8e5qD3JDCCS7\n",
       "rcXDUxvJ3vjzwtRowHV+R00lCMFj6dCtWnmtbUqXYbG+dFtDjcEBm2L+k0Fn/ThgczDdpfw5cCBl\n",
       "a8jFdS8n8oRifKFG45RYVM1N4x1g2AaGvHvofX0XE/zv308rybiHqfL8EEKRw1AzGM084aodjgtm\n",
       "lMQYr6YEcGB7V2fwMdrPYtDoNM20U654lrjvZa4wEPGvAbc7Jw2+9RP3Y/dqe9BshfM6SiZqPNGl\n",
       "9TDwAf5XpjZosi5nVPDpL15rRJUGD0Svf6imq/IX7Q+THvgLtUu+Q1Pm2VF5nd72vj4kskuSfZeu\n",
       "QvQ6KBsEmheyoDNSXWj2wbCd+IVYSeBOGZezgCD0H9DH69GUpL4vIu0+auTYqHDh82MMoemYe7uS\n",
       "tQCeTlDAZ8fcQ/ThqMq3osl4zbnBtOxkcXCG19A4NRnE1hKEo5nRIZ/CWZzcZvFiRFaiUk58DELw\n",
       "+hvWJVN4hPOomb9SkPzvJe7dk/GvqdURnEpNQoCOjwVPr4RbzmAZpOj7psrCKh/sKczthgRSZkGi\n",
       "dI4MqrmjuXh6fYC02HetF/pxjpyfGm/285tzKWnDtfTqADEISbogOJ9CWdFJXvxrnM2o+sM4eFXq\n",
       "RwuznPZZY94ugTnp4l4SGfTdOxazbNtgRV16dI7xI2/h7A9rA7b7f+hlLgkf8C2VV3EfDDoaEuze\n",
       "TKftRBvhSoh5un+6jZ5eE7XA/J5uAQRNN9is4jF/+Vp3olU4lmyMvhk8pFdEVhFSLesl+GFHEYfQ\n",
       "6PatFFTnZ5xvTTjHp4TASKEA5mdvtneAaHboQgUHl4D/GjnMiKogLSaUH8o5K+MQgx7p4esU9rH5\n",
       "80VTeAR1JZDtif1RecwToRI/S6l7e+jL/FeCmE/+YLmiBx2dezFZ7ZatHomytrqpDM3kcMHj2S2z\n",
       "phhp23KeVZs7PKdJWeSoU0iTaykj9l99sWWNoCswNVQs5PxYkXX1R4TLovlPlV1D2GBxr9ltcm4C\n",
       "9c9CPnZGpf7hJvieb6KXPszxV8Ji+AQ6GwIfaQt02rp743FTz3LZnjKWo2xiuHEVGLPIp6ysF83e\n",
       "VF6KZb8V99g6SZ4HUaoOKdhRue5aATharWKkzOdH1qXzq7DokH4CPotYhZd6bkkoPsmZzcLJl873\n",
       "3AtyPe75DPS6EGlf7hw6YpwN6FXNnFVKNuQNNsCfpL1OIR75kBl80HbZ1mZ3Qgy3IjVhJQ97gd+Z\n",
       "PqOpqn7H7XSu5sszof1/vBNZf3ZNV91g1CVQBXJEZZ6kNet0L/7IJYgRg/cil+7lDsIaDpwtWKWk\n",
       "tndW3bTwUw/1sxAVm1hWg3778bpt4f8MEo/4zRhM8zzJcXUhgoFA/SqWBkJcfYQB398Vl+IY6gwj\n",
       "7wbmEl7nvCAP3iNv4SzDYGEGOcLAFOZmfYHlA6Nw8Ss0Lzz7X//bCtQHT2m8ZajhiSsA0Fq+BWxU\n",
       "nctjROCW1W8Ts0ZJHP+CkF36h6VfZ8ZZ2zcXtQAs5Zrerd2wAme5Za3bYVReZqdSZG7TLS6KqWka\n",
       "vEoJ1ROjsmCFMgbWj58oWBEi/Gy+WhQApXOYE1yQS1/zP91X2et3fAS3B10EAKfyVfqnr9AyLc5E\n",
       "QvA7nwRwmGx223ydA8pYbSWoa/90SVhio/Unfh/4WukATkf9cQ0X5gZFS7EQ24oD1uCkCM6xpOBK\n",
       "lWRNbGZY69FFqa91NMv6nSCQmvMQZSqsKbX7b8N6bZ8jAxL8he0ZterfujdJLKOM3hffaIstXi3l\n",
       "FUqK3V6jhBGSUu6ouIXZnn9BmVbjmvQx1koPtosC4FGhKULgUIFrYQK57VKLp9cSWJGmyix+MYDJ\n",
       "xw+cphjYKLEkSD6njAbP99+nBaYcoSV+fFH6bkIZzOyKvAqy4myY6eAEsNr6D4yD0NDiHNTX2ZSa\n",
       "6YC0mfKMvPbF2K+ku03GsFfoF6YRdKUIJRyT70PkOXf57N0odlwMqhDyGdLs6ShpBImCflJSQ6zd\n",
       "T60z61qD2LM+3SE1PlHbOvNsKVjxXpT8VQ9IQZKOrc/iCbtG3sVb+djFog/i4jCp7GqahkBm4WlV\n",
       "LlLfAmXkMWhhZIeVgDmAc4aCIit6x1btU3QkJ566QtyG4STZaALlx4rNn/BYOGj7cjF4rG5cGLko\n",
       "riHTFs4IU3b0Z/9/e/WP1xAvROmRcg7vFhA3VwyTkgAOs2Fmrr+WiYEAAAETQZojbEL//oywBlEc\n",
       "lwBP9gHx+d0VPWY7BluQWTI+tLNNwOyeclHH/LRzEprtWZ17DSmLexkJpcUgOZ+VOvif3BAABKeT\n",
       "X+m83TUjP+S95gNEOU0xU9f/kI3ue5btMFjyNyeSQvMV/jTB4pbTjKni69HtfipCAly1aNcF3CzY\n",
       "pQvxEO5gop6GbfoD7eeEa/JWnOPQfI46icwosu8bwGCQGsUFPSDRtrK+HiL8SfGeIL/1BbaHpIWa\n",
       "ksyvYPOrOUkRgi6ZbaWrS6qBlYD8tFxDRJhST5Koq2LfPkDmfVQKI07/E3MoDgUOyYBkGUr5jDe1\n",
       "I1VXWO+WGn55LN8D20Rqtq7yP3IwIeGOF+tmQQ1eF08zYYAAAABVQZ5BeIR/AeYBzJ0iKLCAvau0\n",
       "7gBs0aiGAHob78or13RHjs6yYGEvMqSYQ4rlI7alUaHQEr6J8GkoULmWjqDAs42PvDkdSqV8Z+kb\n",
       "z45RY/2fKzAeAwAAACkBnmJqR/8AVm9/OA1fgAJnrtAwr91Zun7rk4/ZD5xduPZ+TLch5hqgBQAA\n",
       "AIJBmmZJqEFomUwIX//+jLABS98fBxVQAC/21GPac498SAaQPM9qgCR0+Y7xxIUWf9OndhDpJV5/\n",
       "lEpA+ZR56AkkdNaX/G9CeAgfxCptN/pmW+fG5H59gAn5BzxsCG4963ZUbS3AoD8/U9rkKCTF9IZ6\n",
       "poZY9Z1+LTRbA7FZjSkpNuAxAAAAQUGehEURLCP/AO1ENYs19UxLOwxaAEy2Muw+txYbgs/BP0so\n",
       "3DffC7fFEX5ELeAf2WiCcSRpPDfq0QW25yPEijXxAAAAQgGepWpH/wCl7GT7YAI92j3FabP+4vUN\n",
       "y/AdZZV069scgyTcdhIqbdZqk3QcdgbilURL74wF9Ff3LCR7OB4qTsRgBQAAAFhBmqpJqEFsmUwI\n",
       "X//+jLABSgr/0We+U0fK0AFiwAnDLemAQSh6/UETmyA4TZnl5BDMPiJyLl7UwTmWJIbcA8HZn+7x\n",
       "080V4udVJOnGslwdN9maXDdEpYlBAAAAPkGeyEUVLCP/AO1ENYsMEKDEiBfDYAOHPCILWENC2W50\n",
       "TwmEhlr05VU5JIZConXendS4OYN0RVSKhjDtfn8gAAAAIwGe53RH/wCoQIbGORIcgEfO2rH6Asfw\n",
       "5QQO20EELLT+ZRuwAAAAQAGe6WpH/wCoX0W4mAFs4KrX6J9gCPp4DWyQwr7blgZ4IDlIOkr9s9B8\n",
       "s92+F9ddwdSwBfsJpz4J3DbSgVVqgkEAAABZQZrsSahBbJlMFEwz//6eEAFGsKTrWwAfz1w/V2Of\n",
       "ZdlNQ4tFkymsQF7/A4DqzCIODNTcaJ6ZfpY97YshoFG/mLxeL7PIIBdWPKU8CnyBda3llZ5/PqiL\n",
       "xV8AAAAzAZ8Lakf/AX7yE+NreidOABOnHJpgKHIMjOsjQqu6DVfnrF19F3IUzXjfcl73qBYCwOOA\n",
       "AAAATUGbEEnhClJlMCGf/p4QAUbu62L1IABwmNPZantnE2v/2BWRjelDCoWL+CwWXDSwYu1hA6cD\n",
       "4LiGvAtGv7JBjMeNp6i37LKxpFdlYIO1AAAALUGfLkU0TCP/AO1ENYsz3Jw0h0gRIgBXUkBJqmYD\n",
       "z3JTZh2peTxFuyLqlbdjtQAAAC0Bn010R/8AqG5kES57fQARYu1Rdd36d3Pnql5u2qkTs8K1Ul8x\n",
       "nNjAgxU1pIsAAAA2AZ9Pakf/AKhZFtcACUVmBCp8Q9PA0na1jNE72Jz7xgW46ETRDAuaTBcp1gQF\n",
       "goKnMqBk88TmAAAAU0GbVEmoQWiZTAhn//6eEAJ6QbuitDDA4WqarnBfu7SOyl+AC1tEva7JI3Ay\n",
       "EVSNQpLbrv9IDwyjthJoja5k+XJOBSdixFSEx73zEErcMdW5rvdwAAAALUGfckURLCP/AO1ENYsl\n",
       "oqHaHJLyn2/ZM6gK2fo54AEAI44GvuYkMwNga0AmwQAAADUBn5F0R/8Ap7ApbXhlNQxDv//6pAm6\n",
       "n5AARWk00wK+8ouVq1n/KqAhFIrqubDH3ShVqeLFcAAAAC8Bn5NqR/8AqCaOyTqcAAmYUqDUg0pE\n",
       "mMYRW6TkUC8ivIfJptW2dR0dvuAkPt9LVAAAAE9Bm5hJqEFsmUwIZ//+nhACei1oi0HABOhrXPvd\n",
       "9D4p4O/xShp8QQdJO3xKzeGb7qJ96O/+Q1WkT4Xv8MESrG9c38EygAGdKZr5WRvMr/lBAAAAP0Gf\n",
       "tkUVLCP/AO1Eoug0sW1IAIwFtN1RQQSOtAOShUqLWE7balSz+xduqNo7iJilBU0DUdCBzWO5ij5b\n",
       "vj4lwAAAADQBn9V0R/8BR/QqRyuhxFACUM8UaoxiZ8aI/IvKwAZt2PM7Rs1NFLnl6xsojbwS9Mar\n",
       "XAixAAAAQAGf12pH/wFIG6AqvqAC3AFVXPBpeuJjZpO6LXKEm0D3E+wVnAB1zxTqICQ5Pg1RWOiO\n",
       "H++n23tNuLcaJtRVVqkAAABJQZvcSahBbJlMCGf//p4QAn1KgvwWmklwAXQb3yNEZ5HV3KBsew6J\n",
       "NGh99Uy9Ba2f4sXCXyPQYeuEMZMn3YWjfjMcAPBt17H1jQAAADVBn/pFFSwj/wDtRKLF+cC1IAFj\n",
       "ShiNyi9WulHcfeN77hjhcWwspfTWx4i7z5ebmg/8mvP1qQAAAEQBnhl0R/8BUPJR4HwgAAPwjSRg\n",
       "XERnh8lahgOWxqg9pH1DuGLmwGODSL8shcXt4FYU6QxzSiodqDaQdq1fvzLIEFt1JAAAADUBnhtq\n",
       "R/8BUEivSRvd+AAS4RchoszAzxQUqr/ZfG29QsycXAv3JOcJPmnMQnUHHE46uzRioQAAAHJBmgBJ\n",
       "qEFsmUwIX//+jLAFDw/+HC8pllrPD+eSSOHQna/HYJsBvhYIDdc20ZjWz9/HSZ35qkNwcw+YOVGk\n",
       "pMG80EvGgJ7oymaQo5dGNMNDnnG+qk1gm5iXeXM3Da91LbF1siMJDt8HLw0EaYCQg2IkwoEAAAAi\n",
       "QZ4+RRUsI/8BnCp8R+XJhOy32QCmv3x9HhMFM/9JNubwgAAAADgBnl10R/8BUPFJA6WTAA8tQX9k\n",
       "V7hCObW4bAL4TntS7qMe2uzw4upXXeo1gHlU2HJBGLSCrPLCoAAAADsBnl9qR/8BT1gkHTsAKpt7\n",
       "zluMv9a2GMymJtLXQV58ino/Y6115upAZYfmRPp4W8uFAzQ5cDBbv+yySQAAAEtBmkRJqEFsmUwI\n",
       "X//+jLAFY5oED+fYRAKHz09YRjtjA9RhxzB6FfSS++6lkcbKzgYx7NBMyypGeuHZwQmlmynHo1JS\n",
       "47y/BUov7MAAAAA2QZ5iRRUsI/8BpYri3gpNfRBeRr1Fx/4AGpDFxFB8suDxwcTYq62uiomPaeiA\n",
       "VJsGy+fA0VltAAAAPgGegXRH/wVuybi6+NIlSgALis/UXb6iktcqOhEu5elUCHhtAyNLDcreT2GA\n",
       "tAok0Arn2l48Pb1YWkmVBnWAAAAAKgGeg2pH/wVvvVEgbJWciIU3yRR0G48ucxxdrAAt54/7Nvu5\n",
       "Sxkn/kr7YQAAAFNBmodJqEFsmUwIX//+jLAFWu2GEIJ7cWAEAWpVM5/LTNgt8BsC9Wle/2DpvaHj\n",
       "L92xUdHTW/OtNglefw0e1f/2TOFTECAyBX4jZviaLN5Dy+iPlQAAADhBnqVFFSwj/wGwJZ5zC6IA\n",
       "EqFiCuQV7A/eBa/zFfiPs99hWgtObDQhOucX6R2ddror/uWGsdxsCQAAADMBnsZqR/8FP+h/iqpa\n",
       "sAAh1H1UgVysp07ZKGElJVt7tjJFJ36OTOTUOOTUW/OOhp812xcAAABOQZrLSahBbJlMCF///oyw\n",
       "BSxM4Ss4S0FiYCgAlSlGNWLQhFXs56BRxbcN/Pgcb0Y2/6DXty2INbePn3eRhPeDW2kKnlYGRpBd\n",
       "MjxWM8/wAAAANEGe6UUVLCP/A1xpdWvx3WsFBACXV9UYeeh3Y9DfQiHfOQo237snb8Zb0E0NA0FW\n",
       "k2RfxgQAAAA0AZ8IdEf/BULzN4L9Ry2AAEAWTDF6VdrvTixjHskzRKBUH571LvZWjccVt/CV9FFX\n",
       "L8ZcCQAAACYBnwpqR/8FQ8fKCGYnJlCIAM9I0WvOJu6nYcbar9+d7lZsYzRwIAAAAFtBmw5JqEFs\n",
       "mUwIX//+jLAZvW73ybG4CjHABXOFCZJO8FA1MNUxSKMgWNYtSVGdZ4MU68twPg7BVf/LuwQrP3wh\n",
       "7OUx33YIvnuawyEQbLfKdAOD1R3dVC+1oTomAAAASUGfLEUVLCP/A1s03xYJAw2ACdZRdQxJ1qbU\n",
       "qKoH0/Cd28Ef/FXN4watsqYNwdYBgD+7zLSgGJTThBmRd7U6dp/VX/J5jyoQ/IEAAAAzAZ9Nakf/\n",
       "BT/vMx169hAAQDRq/nkjRZ21cFpvHxaZcPKDWneQkWYBQczIkrofxl8yyC1NAAAAUEGbUkmoQWyZ\n",
       "TAhf//6MsAWvmtzRgvPiMgBMlIs51lpRqrg4qaIQieDT46LKU7tcUC/TZjsxzL3F3Ra4XS98PfTp\n",
       "RiOq3sBZe1+XUETsZNJHAAAALEGfcEUVLCP/A1xqXBwwUHQ6/8AKw+DJ3x+heSWEGWvTqJfsPm85\n",
       "AS3+3sl4AAAAJQGfj3RH/wKxA7scgtsi96TOUtLbQABon0xjL5w/iLqlyRvRgfAAAAA1AZ+Rakf/\n",
       "BUJQbYiqKA0ABC3aUNfin72CajpkBeI6z3osqMVlSN0FF2qAL2mxQC4MpY1vfcEAAAA/QZuVSahB\n",
       "bJlMCF///oywGb1u+K3xtIor6ej81u0AHY0wL0IWHrZTZ1zU55kWLxDCMzbhnqwnLSukpnOua190\n",
       "AAAALkGfs0UVLCP/A1s038KJ2+6XiTv4/Mub5HN0ZtT/oSqXuvABLVkWcXlcBwDGB/gAAAA7AZ/U\n",
       "akf/BWsyQXRzZc5YABCEyevmDpLclHqzJaO6MAWOqwc2KFY5HUJcnw+LfuK1/b9bl/q3nYgIwIEA\n",
       "AABXQZvXSahBbJlMFEwz//6eEAX8hx5sbw6cM+GOFwASpYViI8/68wNhO598BOYWezlw5V2WsLOv\n",
       "bP48/z+tKB6tMW5EKSBA3d9/Q1Q3tulfup5XXpN20TjgAAAAKgGf9mpH/wVt+llI8gGIaKtoWmC5\n",
       "4Anoigft4Sgt2gA8IrC2VeqkwABJwQAAAHJBm/tJ4QpSZTAhf/6MsBm9bvfiBf4MXMAASpSjHrBC\n",
       "IVbuXzy1tgntz0DmBaFuq+ZqVWwKVZU0QXOw6ovT6eIAmqFy7bwQBgjWxoN/97qgjSUW7gEDqV5j\n",
       "emLEk84Sds7cEZrRXl6mUW981qyAEyK+lU0AAAA8QZ4ZRTRMI/8DlRh83XA/VnMJDxqSACOnqpWM\n",
       "VGvrQNNqIMgyBoifZf7ALXLkKSCDSRbEsjxC8out4BbQAAAANgGeOHRH/wU/C4qIJ7rAZgAANSgF\n",
       "SeW0LhbHdoPp784je+QAPHuDmAN2r62imBELF26XxWUbUwAAACwBnjpqR/8Fmf+VgjMzogABDZrM\n",
       "U5sYqr2lY3eiSwleFm5ARxu0YxZJKGTqgAAAAFBBmj5JqEFomUwIZ//+nhAfvFixXRFaiAkAHZ2V\n",
       "l0gujSdVyiE/S5SB2knTTJgfol3nGNKyaqOFIqnNb/Aq7aI8B0dAi/4T8npqmjhpW8hZQQAAADNB\n",
       "nlxFESwj/wOWJ8pkFDF4vNCLJj4eqkMvRRVPdN83ntOu3j+XQATrKLU2RWwTnWOqK2EAAAAuAZ59\n",
       "akf/BZn/NBqtz8c4ACVDThOzFz2GDTYGLc0QJPwvUn0nTdccql6KgCitgAAAAGJBmmJJqEFsmUwI\n",
       "Z//+nhAFa9daoeTYHWJNzKk6GSzKVelljgXxzeAYvCWhj8vb9l/oKSmFeeGOwLSHTXpsWPe/Yjwz\n",
       "CvxhubrnN7nSNPrUzFjauzo6RvBSk2UMOeBJXTeF5AAAAC1BnoBFFSwj/wG5YwN459fphqJlygAu\n",
       "Ep3XEGIsszG3Exy9kvVmvM2ibW4pCTkAAAA4AZ6/dEf/AsAnSv31uEbZSwwAV9TYC363fFn1Fr2x\n",
       "kNw8IVFyhEChoXOAOCrFJdiwnJX0oZ6EwesAAAA8AZ6hakf/AsKfalHHgAJw83BE+ybMjDYUPe63\n",
       "abKKJU2kKu6Dpk9xOmbBoV5ZSNeedeIm9Z8SfooB8apJAAAANkGapkmoQWyZTAhf//6MsAWDmrue\n",
       "DeV0jDSZdEHvpwFTJUvgAQ75Ro+FhEj/KXPJ/ZF96rfDrgAAADdBnsRFFSwj/wDtRLuW3EY5g69J\n",
       "hUEADihoyBMQOTg82gam06fMYYRqMbzFBUocAPGIKIsCTAh5AAAANAGe43RH/wFhGkyRLUAE0w4M\n",
       "Vt/EqqYsMM3lJtyXqaK9Ac2Hlqeeyg9coe3YP4+eEDAIJ1UAAAAnAZ7lakf/AWGYzyNJgBJUWJR7\n",
       "hhrsq3tBiN7iYK/X2UFDf40Dl6LhAAAAW0Ga6kmoQWyZTAhf//6MsAK4p3xG02LAAz9GsyeeIjUm\n",
       "stBc+BvxcNCIoIGv9V5iVRj3UZCYF+r6pz6fniF7frFNQcF2zyZ/rHYu8c6bS0bpIjX4JqAMNeDg\n",
       "soEAAAAyQZ8IRRUsI/8A7US8yilTcMD6AFYfoKEWMlV2d0gA/QGgXYISTjE8ooyB/lV9pHybFtAA\n",
       "AAA2AZ8ndEf/AWJALW0AE7dpKGHHNAe0EPXIgAZLEYlju9GMob7uCboD6VTJUlXY1+6nxV7DMR3Q\n",
       "AAAALwGfKWpH/wFeSWJCRW1ABNLmqiOUs8FrQxjumD6B37/cMDcYK3ZqOa2pB7mLBMY1AAAASkGb\n",
       "LkmoQWyZTAhf//6MsAK7/azcj6KnyjPaOGlGDXwAhARmWDd1nWd/qfiHMDCjDC9KQKS/wYqsaWaS\n",
       "vRGMO0p3VAguTgGFOwLKAAAANEGfTEUVLCP/AO1EwVXxl+hEHBoUcEONviywAWIWOZauIcL5X8RT\n",
       "bFU0svF9G3EFlYVNBWwAAAAtAZ9rdEf/AWMl0aQAXLdT6HfjrMWuCGnrnNMK/L9lamfUtECrTPzn\n",
       "T3UzQJuBAAAAKAGfbWpH/wFiU4QIAvbhPES587o+nx4AJXHCg6iwyI4OKyMIiqaMj7kAAABKQZtw\n",
       "SahBbJlMFEwv//6MsAK7zLmKcy1VSl1Kg7wAO0PTjVBNw2UlTQ3NmfTe0PaybzRHlWeZ+PbWpVpd\n",
       "8aNnVMY9FN1w8OOnw9MAAAA5AZ+Pakf/AX7ygH6j+nku0jXeACZrQ0qfHpUS9RozcxUqesywwLlN\n",
       "B9Fjdgd1KL7MOXpWsApPGIaEAAAASkGblEnhClJlMCFf/jhABUYARYnMRfQAfBdP+TdziPsS7Xv/\n",
       "E1AbYfTunNfRl626rlBOrfueDHiL2V0So439o6F7aJuYbG0+IkEvAAAAKkGfskU0TCP/AO1EosdT\n",
       "H2NAJaiAAGmnDzVYvJCdeOaYbyLOSL+qV03DqwAAAD0Bn9F0R/8BRxd/6ldJ+wAA/TUHlsI36n1n\n",
       "bt9x+rsJ9Z8JsdeNv+Gk/Fmii4SEgBT6l4C0fui0aUWqeBUwAAAANAGf02pH/wFHzbF1sUqOAAmb\n",
       "Wzlyw3cFb3E1xi4w0sr6RbcVD7Dp3QwFlQ+mdQkqLT9KHdAAAAA3QZvWSahBaJlMFPCf/fEADNxc\n",
       "vn0VwAPvF0nZxVFCYZetdQ0ye9AIs0jDRfm79GoWuNKf7SQbUQAAADgBn/VqR/8BfvKAfqP68PZG\n",
       "26eACdu0H4M/jPtteKyiaYxKIYx67EFUxD3+TsMEu/YJlcQCZoCiLgAAABpBm/hJ4QpSZTBSx//8\n",
       "hABP/RwbtGwN6CABBwAAACIBnhdqR/8BfXiWgfbqLUM00gAugBWxOV7MUETzXO2b8F3BAAAHKm1v\n",
       "b3YAAABsbXZoZAAAAAAAAAAAAAAAAAAAA+gAAAb0AAEAAAEAAAAAAAAAAAAAAAABAAAAAAAAAAAA\n",
       "AAAAAAAAAQAAAAAAAAAAAAAAAAAAQAAAAAAAAAAAAAAAAAAAAAAAAAAAAAAAAAAAAAAAAAIAAAZU\n",
       "dHJhawAAAFx0a2hkAAAAAwAAAAAAAAAAAAAAAQAAAAAAAAb0AAAAAAAAAAAAAAAAAAAAAAABAAAA\n",
       "AAAAAAAAAAAAAAAAAQAAAAAAAAAAAAAAAAAAQAAAAAGwAAABIAAAAAAAJGVkdHMAAAAcZWxzdAAA\n",
       "AAAAAAABAAAG9AAAAgAAAQAAAAAFzG1kaWEAAAAgbWRoZAAAAAAAAAAAAAAAAAAAMgAAAFkAVcQA\n",
       "AAAAAC1oZGxyAAAAAAAAAAB2aWRlAAAAAAAAAAAAAAAAVmlkZW9IYW5kbGVyAAAABXdtaW5mAAAA\n",
       "FHZtaGQAAAABAAAAAAAAAAAAAAAkZGluZgAAABxkcmVmAAAAAAAAAAEAAAAMdXJsIAAAAAEAAAU3\n",
       "c3RibAAAALNzdHNkAAAAAAAAAAEAAACjYXZjMQAAAAAAAAABAAAAAAAAAAAAAAAAAAAAAAGwASAA\n",
       "SAAAAEgAAAAAAAAAAQAAAAAAAAAAAAAAAAAAAAAAAAAAAAAAAAAAAAAAAAAAABj//wAAADFhdmND\n",
       "AWQAHv/hABhnZAAerNlBsJaEAAADAAQAAAMBkDxYtlgBAAZo6+PLIsAAAAAcdXVpZGtoQPJfJE/F\n",
       "ujmlG88DI/MAAAAAAAAAGHN0dHMAAAAAAAAAAQAAAFkAAAEAAAAAFHN0c3MAAAAAAAAAAQAAAAEA\n",
       "AAKoY3R0cwAAAAAAAABTAAAAAQAAAgAAAAABAAAEAAAAAAIAAAEAAAAAAQAABAAAAAACAAABAAAA\n",
       "AAEAAAUAAAAAAQAAAgAAAAABAAAAAAAAAAEAAAEAAAAAAQAAAwAAAAABAAABAAAAAAEAAAUAAAAA\n",
       "AQAAAgAAAAABAAAAAAAAAAEAAAEAAAAAAQAABQAAAAABAAACAAAAAAEAAAAAAAAAAQAAAQAAAAAB\n",
       "AAAFAAAAAAEAAAIAAAAAAQAAAAAAAAABAAABAAAAAAEAAAUAAAAAAQAAAgAAAAABAAAAAAAAAAEA\n",
       "AAEAAAAAAQAABQAAAAABAAACAAAAAAEAAAAAAAAAAQAAAQAAAAABAAAFAAAAAAEAAAIAAAAAAQAA\n",
       "AAAAAAABAAABAAAAAAEAAAQAAAAAAgAAAQAAAAABAAAFAAAAAAEAAAIAAAAAAQAAAAAAAAABAAAB\n",
       "AAAAAAEAAAQAAAAAAgAAAQAAAAABAAAFAAAAAAEAAAIAAAAAAQAAAAAAAAABAAABAAAAAAEAAAQA\n",
       "AAAAAgAAAQAAAAABAAADAAAAAAEAAAEAAAAAAQAABQAAAAABAAACAAAAAAEAAAAAAAAAAQAAAQAA\n",
       "AAABAAAEAAAAAAIAAAEAAAAAAQAABQAAAAABAAACAAAAAAEAAAAAAAAAAQAAAQAAAAABAAAFAAAA\n",
       "AAEAAAIAAAAAAQAAAAAAAAABAAABAAAAAAEAAAUAAAAAAQAAAgAAAAABAAAAAAAAAAEAAAEAAAAA\n",
       "AQAABQAAAAABAAACAAAAAAEAAAAAAAAAAQAAAQAAAAABAAADAAAAAAEAAAEAAAAAAQAABQAAAAAB\n",
       "AAACAAAAAAEAAAAAAAAAAQAAAQAAAAABAAADAAAAAAEAAAEAAAAAAQAAAwAAAAABAAABAAAAABxz\n",
       "dHNjAAAAAAAAAAEAAAABAAAAWQAAAAEAAAF4c3RzegAAAAAAAAAAAAAAWQAACnQAAAEXAAAAWQAA\n",
       "AC0AAACGAAAARQAAAEYAAABcAAAAQgAAACcAAABEAAAAXQAAADcAAABRAAAAMQAAADEAAAA6AAAA\n",
       "VwAAADEAAAA5AAAAMwAAAFMAAABDAAAAOAAAAEQAAABNAAAAOQAAAEgAAAA5AAAAdgAAACYAAAA8\n",
       "AAAAPwAAAE8AAAA6AAAAQgAAAC4AAABXAAAAPAAAADcAAABSAAAAOAAAADgAAAAqAAAAXwAAAE0A\n",
       "AAA3AAAAVAAAADAAAAApAAAAOQAAAEMAAAAyAAAAPwAAAFsAAAAuAAAAdgAAAEAAAAA6AAAAMAAA\n",
       "AFQAAAA3AAAAMgAAAGYAAAAxAAAAPAAAAEAAAAA6AAAAOwAAADgAAAArAAAAXwAAADYAAAA6AAAA\n",
       "MwAAAE4AAAA4AAAAMQAAACwAAABOAAAAPQAAAE4AAAAuAAAAQQAAADgAAAA7AAAAPAAAAB4AAAAm\n",
       "AAAAFHN0Y28AAAAAAAAAAQAAACwAAABidWR0YQAAAFptZXRhAAAAAAAAACFoZGxyAAAAAAAAAABt\n",
       "ZGlyYXBwbAAAAAAAAAAAAAAAAC1pbHN0AAAAJal0b28AAAAdZGF0YQAAAAEAAAAATGF2ZjU4LjI5\n",
       "LjEwMA==\n",
       "\">\n",
       "  Your browser does not support the video tag.\n",
       "</video>"
      ],
      "text/plain": [
       "<IPython.core.display.HTML object>"
      ]
     },
     "execution_count": 5,
     "metadata": {},
     "output_type": "execute_result"
    },
    {
     "data": {
      "text/plain": [
       "<Figure size 1080x1080 with 0 Axes>"
      ]
     },
     "metadata": {},
     "output_type": "display_data"
    },
    {
     "data": {
      "image/png": "[encoded data removed]",
      "text/plain": [
       "<Figure size 432x288 with 1 Axes>"
      ]
     },
     "metadata": {
      "needs_background": "light"
     },
     "output_type": "display_data"
    }
   ],
   "source": [
    "rocket = RectRocket(600,320,5,0)\n",
    "target = Target(25,0.01,50,0.01,100,320)\n",
    "world = World(rocket,target)\n",
    "\n",
    "\n",
    "HTML(plot_images(world.run()).to_html5_video())\n",
    "\n"
   ]
  },
  {
   "cell_type": "code",
   "execution_count": 84,
   "metadata": {
    "colab": {
     "base_uri": "https://localhost:8080/",
     "height": 282
    },
    "colab_type": "code",
    "id": "oUw5vNPODea2",
    "outputId": "0d8a8fe4-1f89-4403-a210-fc29c4509eb7"
   },
   "outputs": [
    {
     "data": {
      "text/plain": [
       "[<matplotlib.lines.Line2D at 0x7f8147b096a0>]"
      ]
     },
     "execution_count": 84,
     "metadata": {
      "tags": []
     },
     "output_type": "execute_result"
    },
    {
     "data": {
      "image/png": "[encoded data removed]",
      "text/plain": [
       "<Figure size 432x288 with 1 Axes>"
      ]
     },
     "metadata": {
      "tags": []
     },
     "output_type": "display_data"
    }
   ],
   "source": [
    "plt.plot(world.distance)"
   ]
  },
  {
   "cell_type": "code",
   "execution_count": 0,
   "metadata": {
    "colab": {},
    "colab_type": "code",
    "id": "wJRfpF5hDea5"
   },
   "outputs": [],
   "source": []
  }
 ],
 "metadata": {
  "colab": {
   "collapsed_sections": [],
   "name": "Lab6.ipynb",
   "provenance": []
  },
  "kernelspec": {
   "display_name": "Python 3",
   "language": "python",
   "name": "python3"
  },
  "language_info": {
   "codemirror_mode": {
    "name": "ipython",
    "version": 3
   },
   "file_extension": ".py",
   "mimetype": "text/x-python",
   "name": "python",
   "nbconvert_exporter": "python",
   "pygments_lexer": "ipython3",
   "version": "3.7.4"
  }
 },
 "nbformat": 4,
 "nbformat_minor": 1
}
