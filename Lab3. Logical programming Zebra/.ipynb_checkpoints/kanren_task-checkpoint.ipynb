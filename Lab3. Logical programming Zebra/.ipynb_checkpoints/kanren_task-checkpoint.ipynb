{
 "cells": [
  {
   "cell_type": "code",
   "execution_count": null,
   "metadata": {},
   "outputs": [],
   "source": [
    "!pip install kanren"
   ]
  },
  {
   "cell_type": "code",
   "execution_count": 1,
   "metadata": {},
   "outputs": [],
   "source": [
    "from kanren import *\n",
    "from kanren.core import lall"
   ]
  },
  {
   "cell_type": "code",
   "execution_count": null,
   "metadata": {},
   "outputs": [],
   "source": [
    "def left(q, p, list):\n",
    "    return membero((q,p), zip(list, list[1:]))\n",
    "\n",
    "def next(q, p, list):\n",
    "    return conde([left(q, p, list)], [left(p, q, list)])"
   ]
  },
  {
   "cell_type": "code",
   "execution_count": null,
   "metadata": {},
   "outputs": [],
   "source": [
    "Каждому кораблю — в свой порт\n",
    "В порте пять кораблей.\n",
    "1. Греческий корабль отчаливает в шесть. Он везет кофе.\n",
    "2. У корабля, который в середине — черная труба.\n",
    "3. Английский корабль отплывает в девять.\n",
    "4. Французский корабль, у которого синяя труба, пришвартован слева от корабля, который везет кофе.\n",
    "5. Справа от корабля, на котором груз какао, корабль, который плывет в Марсель.\n",
    "6. Корабль под бразильским флагом направляется на Манилы.\n",
    "7. Рядом с кораблем, на котором рис, — корабль с зеленой трубой.\n",
    "8. Корабль, плывущий в Геную, отходит в пять.\n",
    "9. Испанский корабль отплывает в семь и находится справа от корабля, плывущего в Марсель.\n",
    "10. Корабль с красной трубой направляется в Гамбург.\n",
    "11. Рядом с кораблем, который отчаливает в семь, корабль с белой трубой.\n",
    "12. На крайнем корабле — зерно.\n",
    "13. Корабль с черной трубой отплывает в восемь.\n",
    "14. Корабль с зерном пришвартован рядом с кораблем, на котором груз риса.\n",
    "15. Корабль, следующий до Гамбурга, отчаливает в 6.\n",
    "Вопрос:\n",
    "Который корабль плывет в Порт-Саид? Который гружен чаем?"
   ]
  },
  {
   "cell_type": "code",
   "execution_count": null,
   "metadata": {},
   "outputs": [],
   "source": []
  },
  {
   "cell_type": "code",
   "execution_count": null,
   "metadata": {},
   "outputs": [],
   "source": []
  },
  {
   "cell_type": "code",
   "execution_count": null,
   "metadata": {},
   "outputs": [],
   "source": []
  },
  {
   "cell_type": "code",
   "execution_count": null,
   "metadata": {},
   "outputs": [],
   "source": []
  }
 ],
 "metadata": {
  "kernelspec": {
   "display_name": "Python 3",
   "language": "python",
   "name": "python3"
  },
  "language_info": {
   "codemirror_mode": {
    "name": "ipython",
    "version": 3
   },
   "file_extension": ".py",
   "mimetype": "text/x-python",
   "name": "python",
   "nbconvert_exporter": "python",
   "pygments_lexer": "ipython3",
   "version": "3.8.1"
  }
 },
 "nbformat": 4,
 "nbformat_minor": 4
}
