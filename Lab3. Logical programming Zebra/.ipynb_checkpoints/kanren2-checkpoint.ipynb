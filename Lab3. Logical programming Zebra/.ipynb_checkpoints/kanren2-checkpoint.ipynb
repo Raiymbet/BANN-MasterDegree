{
 "cells": [
  {
   "cell_type": "code",
   "execution_count": 1,
   "metadata": {},
   "outputs": [],
   "source": [
    "from kanren import *\n",
    "from kanren.core import lall"
   ]
  },
  {
   "cell_type": "code",
   "execution_count": 2,
   "metadata": {},
   "outputs": [],
   "source": [
    "def left(q, p, list):\n",
    "    return membero((q,p), zip(list, list[1:]))\n",
    "\n",
    "def next(q, p, list):\n",
    "    return conde([left(q, p, list)], [left(p, q, list)])"
   ]
  },
  {
   "cell_type": "code",
   "execution_count": 3,
   "metadata": {},
   "outputs": [],
   "source": [
    "houses = var()"
   ]
  },
  {
   "cell_type": "markdown",
   "metadata": {},
   "source": [
    "На улице стоят пять домов.\n",
    "Англичанин живёт в красном доме.\n",
    "У испанца есть собака.\n",
    "В зелёном доме пьют кофе.\n",
    "Украинец пьёт чай.\n",
    "Зелёный дом стоит сразу справа от белого дома.\n",
    "Тот, кто курит Old Gold, разводит улиток.\n",
    "В жёлтом доме курят Dunhill.\n",
    "В центральном доме пьют молоко.\n",
    "Норвежец живёт в первом доме.\n",
    "Сосед того, кто курит Chesterfield, держит лису.\n",
    "В доме по соседству с тем, в котором держат лошадь, курят Dunhill.\n",
    "Тот, кто курит Lucky Strike, пьёт апельсиновый сок.\n",
    "Японец курит Parliament.\n",
    "Норвежец живёт рядом с синим домом.\n",
    "Кто пьёт воду?\n",
    "Кто держит зебру?"
   ]
  },
  {
   "cell_type": "code",
   "execution_count": 14,
   "metadata": {},
   "outputs": [],
   "source": [
    "rules_zebraproblem = lall(\n",
    "    (eq, (var(), var(), var(), var(), var()), houses),\n",
    "    (membero,('Англичанин', var(), var(), var(), 'красный'), houses),\n",
    "    (membero,('Испанец', var(), var(), 'собака', var()), houses),\n",
    "    (membero,(var(), var(), 'кофе', var(), 'зелёный'), houses),\n",
    "    (membero,('Украинец', var(), 'чай', var(), var()), houses),\n",
    "    (left,(var(), var(), var(), var(), 'зелёный'), (var(), var(), var(), var(), 'белый'), houses),\n",
    "    (membero,(var(), 'Old Gold', var(), 'улитки', var()), houses),\n",
    "    (membero,(var(), 'Dunhill', var(), var(), 'жёлтый'), houses),\n",
    "    (eq,(var(), var(), (var(), var(), 'молоко', var(), var()), var(), var()), houses),\n",
    "    (eq,(('Норвежец', var(), var(), var(), var()), var(), var(), var(), var()), houses),\n",
    "    (next,(var(), 'Chesterfield', var(), var(), var()), (var(), var(), var(), 'лиса', var()), houses),\n",
    "    (next,(var(), 'Dunhill', var(), var(), var()), (var(), var(), var(), 'лошадь', var()), houses),\n",
    "    (membero,(var(), 'Lucky Strike', 'апельсиновый сок', var(), var()), houses),\n",
    "    (membero,('Японец', 'Parliament', var(), var(), var()), houses),\n",
    "    (next,('Норвежец', var(), var(), var(), var()), (var(), var(), var(), var(), 'синий'), houses),\n",
    "    (membero,(var(), var(), var(), 'зебра', var()), houses),    \n",
    "    (membero,(var(), var(), 'вода', var(), var()), houses)\n",
    ")"
   ]
  },
  {
   "cell_type": "code",
   "execution_count": 15,
   "metadata": {},
   "outputs": [],
   "source": [
    "solutions = run(0, houses, rules_zebraproblem)"
   ]
  },
  {
   "cell_type": "code",
   "execution_count": 16,
   "metadata": {},
   "outputs": [
    {
     "data": {
      "text/plain": [
       "((('Норвежец', 'Dunhill', 'вода', 'лиса', 'жёлтый'),\n",
       "  ('Украинец', 'Chesterfield', 'чай', 'лошадь', 'синий'),\n",
       "  ('Англичанин', 'Old Gold', 'молоко', 'улитки', 'красный'),\n",
       "  ('Японец', 'Parliament', 'кофе', 'зебра', 'зелёный'),\n",
       "  ('Испанец', 'Lucky Strike', 'апельсиновый сок', 'собака', 'белый')),)"
      ]
     },
     "execution_count": 16,
     "metadata": {},
     "output_type": "execute_result"
    }
   ],
   "source": [
    "solutions"
   ]
  },
  {
   "cell_type": "code",
   "execution_count": null,
   "metadata": {},
   "outputs": [],
   "source": []
  },
  {
   "cell_type": "code",
   "execution_count": null,
   "metadata": {},
   "outputs": [],
   "source": []
  }
 ],
 "metadata": {
  "kernelspec": {
   "display_name": "Python 3",
   "language": "python",
   "name": "python3"
  },
  "language_info": {
   "codemirror_mode": {
    "name": "ipython",
    "version": 3
   },
   "file_extension": ".py",
   "mimetype": "text/x-python",
   "name": "python",
   "nbconvert_exporter": "python",
   "pygments_lexer": "ipython3",
   "version": "3.8.1"
  }
 },
 "nbformat": 4,
 "nbformat_minor": 4
}
